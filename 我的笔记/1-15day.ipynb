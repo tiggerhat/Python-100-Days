{
 "cells": [
  {
   "attachments": {},
   "cell_type": "markdown",
   "metadata": {},
   "source": [
    "### 循环结构"
   ]
  },
  {
   "cell_type": "code",
   "execution_count": null,
   "metadata": {},
   "outputs": [],
   "source": [
    "for x in range(11,1,-2):\n",
    "    print(x)"
   ]
  },
  {
   "attachments": {},
   "cell_type": "markdown",
   "metadata": {},
   "source": [
    "### while"
   ]
  },
  {
   "cell_type": "code",
   "execution_count": 12,
   "metadata": {},
   "outputs": [
    {
     "name": "stdout",
     "output_type": "stream",
     "text": [
      "往大了猜\n",
      "一次就中\n",
      "总共猜了2次\n"
     ]
    }
   ],
   "source": [
    "import random \n",
    "\n",
    "answer = random.randint(0,10)\n",
    "count=0\n",
    "while True:\n",
    "    count += 1  \n",
    "    number =int(input('请输入一个数：'))\n",
    "    if number==answer:\n",
    "        print('猜对了')\n",
    "        break\n",
    "    elif number> answer:\n",
    "        print('小一些才对')\n",
    "    else:\n",
    "        print('往大了猜')\n",
    "\n",
    "print('总共猜了%d次' % count)\n",
    "\n"
   ]
  }
 ],
 "metadata": {
  "kernelspec": {
   "display_name": "Python 3",
   "language": "python",
   "name": "python3"
  },
  "language_info": {
   "codemirror_mode": {
    "name": "ipython",
    "version": 3
   },
   "file_extension": ".py",
   "mimetype": "text/x-python",
   "name": "python",
   "nbconvert_exporter": "python",
   "pygments_lexer": "ipython3",
   "version": "3.11.0"
  },
  "orig_nbformat": 4,
  "vscode": {
   "interpreter": {
    "hash": "c261aea317cc0286b3b3261fbba9abdec21eaa57589985bb7a274bf54d6cc0a7"
   }
  }
 },
 "nbformat": 4,
 "nbformat_minor": 2
}
